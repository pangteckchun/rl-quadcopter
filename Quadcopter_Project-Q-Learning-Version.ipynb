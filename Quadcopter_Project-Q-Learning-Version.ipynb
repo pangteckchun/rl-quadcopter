{
 "cells": [
  {
   "cell_type": "markdown",
   "metadata": {},
   "source": [
    "# Project: Train a Quadcopter How to Fly\n",
    "\n",
    "Design an agent to fly a quadcopter, and then train it using a reinforcement learning algorithm of your choice! \n",
    "\n",
    "Try to apply the techniques you have learnt, but also feel free to come up with innovative ideas and test them."
   ]
  },
  {
   "cell_type": "markdown",
   "metadata": {
    "collapsed": true
   },
   "source": [
    "## Define the Task, Design the Agent, and Train Your Agent!\n",
    "\n",
    "Amend `task.py` to specify a task of your choosing.  If you're unsure what kind of task to specify, you may like to teach your quadcopter to takeoff, hover in place, land softly, or reach a target pose.  \n",
    "\n",
    "After specifying your task, use the sample agent in `agents/policy_search.py` as a template to define your own agent in `agents/agent.py`.  You can borrow whatever you need from the sample agent, including ideas on how you might modularize your code (using helper methods like `act()`, `learn()`, `reset_episode()`, etc.).\n",
    "\n",
    "Note that it is **highly unlikely** that the first agent and task that you specify will learn well.  You will likely have to tweak various hyperparameters and the reward function for your task until you arrive at reasonably good behavior.\n",
    "\n",
    "As you develop your agent, it's important to keep an eye on how it's performing. Use the code above as inspiration to build in a mechanism to log/save the total rewards obtained in each episode to file.  If the episode rewards are gradually increasing, this is an indication that your agent is learning."
   ]
  },
  {
   "cell_type": "code",
   "execution_count": 1,
   "metadata": {
    "collapsed": true
   },
   "outputs": [],
   "source": [
    "import numpy as np\n",
    "import sys\n",
    "import pandas as pd\n",
    "from task import Task\n",
    "from agents.qlearning_agent import Quadcopter_Agent\n",
    "from collections import defaultdict, deque \n",
    "\n",
    "# Define hyperparameters for training the agent\n",
    "alpha = 0.1 # step-size parameter\n",
    "gamma = 0.80 # discount value\n",
    "num_episodes = 3000\n",
    "plot_every = 50"
   ]
  },
  {
   "cell_type": "code",
   "execution_count": 2,
   "metadata": {},
   "outputs": [
    {
     "name": "stdout",
     "output_type": "stream",
     "text": [
      "Initial vel =  [ 15.  15.  15.]\n",
      "Initial angle vel =  [ 20.  20.  15.]\n",
      "Initial pose =  [  0.   0.  10.  10.   0.   0.]\n",
      "Target pose =  [ 30.  30.  30.   0.   0.   0.]\n"
     ]
    }
   ],
   "source": [
    "# initialise the env\n",
    "task = Task(init_pose=np.array([0., 0., 10., 10., 0., 0.]), \\\n",
    "            init_velocities=np.array([15., 15., 15.]), \\\n",
    "            init_angle_velocities=np.array([20., 20., 15.]), \\\n",
    "            target_pose=np.array([30., 30., 30., 0., 0., 0.]))\n",
    "\n",
    "# initialise the agent\n",
    "agent = Quadcopter_Agent(task)\n",
    "\n",
    "# initialise score trackers\n",
    "score_per_episode = deque(maxlen=num_episodes)\n",
    "temp_score = deque(maxlen=plot_every)\n",
    "total_score = deque(maxlen=num_episodes)\n",
    "\n",
    "# initialise pose tracker\n",
    "temp_pose_perf = deque(maxlen=num_episodes)\n",
    "pose_perf = deque(maxlen=num_episodes)\n",
    "\n",
    "for i_episode in range(1, num_episodes+1):\n",
    "    \n",
    "    # monitor progress\n",
    "    if i_episode % 100 == 0:\n",
    "        sys.stdout.flush()\n",
    "\n",
    "    state = agent.reset_episode()\n",
    "    eps = 1.0 / i_episode \n",
    "   \n",
    "    while True:\n",
    "        action = agent.act(state, eps)\n",
    "\n",
    "        # take action A, observe R, S'\n",
    "        next_state, reward, done = task.step(action)\n",
    "       \n",
    "        # update Q and S <- S'\n",
    "        state, score = agent.step(alpha, gamma, action, reward, state, next_state)\n",
    "        #print (\"Episode {} - score = {}\".format(i_episode, score))\n",
    "       \n",
    "        if done:\n",
    "            temp_score.append(score)    # append score\n",
    "            temp_pose_perf.append(state) # append current position or pose\n",
    "            break\n",
    "\n",
    "    if (i_episode % plot_every == 0):\n",
    "        total_score.append(np.mean(temp_score))\n",
    "        pose_perf.append(np.mean(temp_pose_perf, axis=0))\n",
    "\n",
    "        # debug print to see if agent is learning after every episode\n",
    "        #print('\\t mean score = ', np.mean(total_score), ' best score = ', np.max(total_score))"
   ]
  },
  {
   "cell_type": "markdown",
   "metadata": {
    "collapsed": true
   },
   "source": [
    "## Plot the Rewards\n",
    "\n",
    "Once you are satisfied with your performance, plot the episode rewards, either from a single run, or averaged over multiple runs. "
   ]
  },
  {
   "cell_type": "code",
   "execution_count": 3,
   "metadata": {},
   "outputs": [
    {
     "data": {
      "image/png": "[encoded data removed]",
      "text/plain": [
       "<matplotlib.figure.Figure at 0x1118165c0>"
      ]
     },
     "metadata": {},
     "output_type": "display_data"
    },
    {
     "name": "stdout",
     "output_type": "stream",
     "text": [
      "FINAL RESULT: \t mean score =  -754.473333333  best score =  -749.4\n",
      "MEAN last 10 episodes =  -750.0 Variance =  -4.47333333333\n"
     ]
    }
   ],
   "source": [
    "import matplotlib.pyplot as plt\n",
    "\n",
    "# plot performance\n",
    "x_axis_label = 'Episode Number (alpha={}, gamma={}, eps={})'.format(alpha, gamma, eps)\n",
    "plt.plot(np.linspace(0, num_episodes, len(total_score), endpoint=False), np.asarray(total_score))\n",
    "plt.xlabel(x_axis_label)\n",
    "plt.ylabel('Average Reward (Every %d Episodes)' % plot_every)\n",
    "\n",
    "plt.show()\n",
    "\n",
    "\n",
    "print('FINAL RESULT: \\t mean score = ', np.mean(total_score), ' best score = ', np.max(total_score))\n",
    "print('MEAN last 10 episodes = ', np.mean(total_score[-10]), 'Variance = ', np.mean(total_score)-np.mean(total_score[-10]))"
   ]
  },
  {
   "cell_type": "markdown",
   "metadata": {},
   "source": [
    "## Quadcopter Trajectory Performance ##  \n",
    "The following displays the X, Y an Z trajectory over the training the episodes.\n",
    "With the environment initialized as such (see print statements below), the Quadcopter is near 100% to achieving its intended goal - to reach the pose of [30, 30, 30, 0, 0, 0]."
   ]
  },
  {
   "cell_type": "code",
   "execution_count": 4,
   "metadata": {},
   "outputs": [
    {
     "name": "stdout",
     "output_type": "stream",
     "text": [
      "----------- Environment init ------------\n",
      "Initial vel =  [ 15.  15.  15.]\n",
      "Initial angle vel =  [ 20.  20.  15.]\n",
      "Initial pose =  [  0.   0.  10.  10.   0.   0.]\n",
      "Target pose =  [ 30.  30.  30.   0.   0.   0.]\n",
      "Final pose =  [ 28.36265295  29.59167952  27.71606998   6.15894581   3.07629158\n",
      "   2.5561538 ]\n"
     ]
    },
    {
     "data": {
      "image/png": "[encoded data removed]",
      "text/plain": [
       "<matplotlib.figure.Figure at 0x11a015278>"
      ]
     },
     "metadata": {},
     "output_type": "display_data"
    }
   ],
   "source": [
    "print ('----------- Environment init ------------')\n",
    "print ('Initial vel = ', task.sim.init_velocities)\n",
    "print ('Initial angle vel = ', task.sim.init_angle_velocities)\n",
    "print ('Initial pose = ', task.sim.init_pose)\n",
    "print ('Target pose = ', task.target_pose)\n",
    "print ('Final pose = ', task.sim.pose)\n",
    "\n",
    "# plot positional performance\n",
    "\n",
    "x_axis_label = 'Episode Number (alpha={}, gamma={}, eps={})'.format(alpha, gamma, eps)\n",
    "\n",
    "plt.plot(np.linspace(0, num_episodes, len(pose_perf), endpoint=False), np.asarray(pose_perf)[:,0:1], label='x')\n",
    "plt.plot(np.linspace(0, num_episodes, len(pose_perf), endpoint=False), np.asarray(pose_perf)[:,1:2], label='y')\n",
    "plt.plot(np.linspace(0, num_episodes, len(pose_perf), endpoint=False), np.asarray(pose_perf)[:,2:3], label='z')\n",
    "plt.legend()\n",
    "plt.xlabel(x_axis_label)\n",
    "plt.ylabel('X, Y & Z positional performance (Every %d Episodes)' % plot_every)\n",
    "\n",
    "plt.show()"
   ]
  },
  {
   "cell_type": "code",
   "execution_count": null,
   "metadata": {
    "collapsed": true
   },
   "outputs": [],
   "source": []
  }
 ],
 "metadata": {
  "anaconda-cloud": {},
  "kernelspec": {
   "display_name": "Python 3",
   "language": "python",
   "name": "python3"
  },
  "language_info": {
   "codemirror_mode": {
    "name": "ipython",
    "version": 3
   },
   "file_extension": ".py",
   "mimetype": "text/x-python",
   "name": "python",
   "nbconvert_exporter": "python",
   "pygments_lexer": "ipython3",
   "version": "3.6.3"
  }
 },
 "nbformat": 4,
 "nbformat_minor": 2
}
